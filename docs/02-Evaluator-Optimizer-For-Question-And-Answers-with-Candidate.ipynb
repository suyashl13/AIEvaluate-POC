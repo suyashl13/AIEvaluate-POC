{
 "cells": [
  {
   "cell_type": "markdown",
   "id": "08d9b8c0",
   "metadata": {},
   "source": [
    "# Based on Generated Questions Now let's Build a Conversational Agent\n",
    "> In this agent we will be implementing an AI which will chat with candidate and get candidates answers at its fullest!"
   ]
  },
  {
   "cell_type": "markdown",
   "id": "d407042b",
   "metadata": {},
   "source": [
    "####  Step 1 - Ensure all environment variables are available and initialize LLM(s)."
   ]
  },
  {
   "cell_type": "code",
   "execution_count": 3,
   "id": "34c91adc",
   "metadata": {},
   "outputs": [
    {
     "name": "stdout",
     "output_type": "stream",
     "text": [
      "LOADED OPENAI_API_KEY := True\n",
      "LOADED LANGSMITH_API_KEY := True\n",
      "LOADED LANGSMITH_TRACING := True\n"
     ]
    }
   ],
   "source": [
    "# Load Environment Variables\n",
    "\n",
    "import os\n",
    "\n",
    "from dotenv import load_dotenv\n",
    "load_dotenv()\n",
    "\n",
    "print('LOADED OPENAI_API_KEY :=',os.environ['OPENAI_API_KEY'] == os.getenv('OPENAI_API_KEY'))\n",
    "print('LOADED LANGSMITH_API_KEY :=',os.environ['LANGSMITH_API_KEY'] == os.getenv('LANGSMITH_API_KEY'))\n",
    "print('LOADED LANGSMITH_TRACING :=',os.environ['LANGSMITH_TRACING'] == os.getenv('LANGSMITH_TRACING'))"
   ]
  },
  {
   "cell_type": "code",
   "execution_count": 4,
   "id": "fff57d06",
   "metadata": {},
   "outputs": [],
   "source": [
    "# Create a LLM instance\n",
    "from langchain_openai import ChatOpenAI\n",
    "\n",
    "llm = ChatOpenAI(model_name=\"gpt-3.5-turbo\")"
   ]
  }
 ],
 "metadata": {
  "kernelspec": {
   "display_name": "docs",
   "language": "python",
   "name": "python3"
  },
  "language_info": {
   "codemirror_mode": {
    "name": "ipython",
    "version": 3
   },
   "file_extension": ".py",
   "mimetype": "text/x-python",
   "name": "python",
   "nbconvert_exporter": "python",
   "pygments_lexer": "ipython3",
   "version": "3.10.12"
  }
 },
 "nbformat": 4,
 "nbformat_minor": 5
}
